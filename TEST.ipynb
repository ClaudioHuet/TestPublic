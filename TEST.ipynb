{
  "nbformat": 4,
  "nbformat_minor": 0,
  "metadata": {
    "colab": {
      "provenance": []
    },
    "kernelspec": {
      "name": "python3",
      "display_name": "Python 3"
    },
    "language_info": {
      "name": "python"
    }
  },
  "cells": [
    {
      "cell_type": "code",
      "execution_count": 1,
      "metadata": {
        "id": "asHg4Vbxn_94"
      },
      "outputs": [],
      "source": [
        "# a. Extraer la información del archivo\n",
        "import pandas as pd\n",
        "mydf = pd.read_csv(\"/content/drive/MyDrive/country_vaccinations.csv\")"
      ]
    }
  ]
}